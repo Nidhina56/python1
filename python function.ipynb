{
 "cells": [
  {
   "cell_type": "code",
   "execution_count": 1,
   "id": "ad5c1359",
   "metadata": {},
   "outputs": [
    {
     "name": "stdout",
     "output_type": "stream",
     "text": [
      "enter a first string:nidhina\n",
      "enter a second string:c h\n",
      "nidhina\n"
     ]
    }
   ],
   "source": [
    "string1=input(\"enter a first string:\")\n",
    "string2=input(\"enter a second string:\")\n",
    "str1_len=len(string1)\n",
    "str2_len=len(string2)\n",
    "if(str1_len>str2_len):\n",
    "    print(string1)\n",
    "elif str1_len==str2_len:\n",
    "    print(string1,end='\\n')\n",
    "    print(string2)\n",
    "else:\n",
    "    print(string2)"
   ]
  },
  {
   "cell_type": "code",
   "execution_count": 2,
   "id": "07d1ac62",
   "metadata": {},
   "outputs": [
    {
     "name": "stdout",
     "output_type": "stream",
     "text": [
      "{1: 1, 2: 4}\n"
     ]
    }
   ],
   "source": [
    "d=dict()\n",
    "for x in range(1,3):\n",
    "    d[x]=x**2\n",
    "print(d) "
   ]
  },
  {
   "cell_type": "code",
   "execution_count": 3,
   "id": "a637f351",
   "metadata": {},
   "outputs": [
    {
     "name": "stdout",
     "output_type": "stream",
     "text": [
      "{1: 1, 2: 4, 3: 9, 4: 16, 5: 25, 6: 36, 7: 49, 8: 64, 9: 81, 10: 100, 11: 121, 12: 144, 13: 169, 14: 196, 15: 225, 16: 256, 17: 289, 18: 324, 19: 361}\n",
      "dict_keys([1, 2, 3, 4, 5, 6, 7, 8, 9, 10, 11, 12, 13, 14, 15, 16, 17, 18, 19])\n",
      "dict_values([1, 4, 9, 16, 25, 36, 49, 64, 81, 100, 121, 144, 169, 196, 225, 256, 289, 324, 361])\n"
     ]
    }
   ],
   "source": [
    "d=dict()\n",
    "for x in range(1,20):\n",
    "    d[x]=x**2\n",
    "print(d)\n",
    "print(d.keys())\n",
    "print(d.values())\n",
    "   "
   ]
  },
  {
   "cell_type": "code",
   "execution_count": 4,
   "id": "1de8e891",
   "metadata": {},
   "outputs": [
    {
     "name": "stdout",
     "output_type": "stream",
     "text": [
      "enter a number4\n",
      "is a even number\n"
     ]
    }
   ],
   "source": [
    "a=int(input(\"enter a number\"))\n",
    "if a%2==0:\n",
    "    print(\"is a even number\")\n",
    "else:\n",
    "    print(\"is a odd number\")"
   ]
  },
  {
   "cell_type": "code",
   "execution_count": 5,
   "id": "5da1c516",
   "metadata": {},
   "outputs": [
    {
     "name": "stdout",
     "output_type": "stream",
     "text": [
      "[1, 4, 9, 16, 25]\n"
     ]
    }
   ],
   "source": [
    "def printValues():\n",
    "    l=list()\n",
    "    for i in range(1,20):\n",
    "        l.append(i**2)\n",
    "    print(l[:5])\n",
    "printValues()"
   ]
  },
  {
   "cell_type": "code",
   "execution_count": 6,
   "id": "5f64f1a7",
   "metadata": {},
   "outputs": [
    {
     "name": "stdout",
     "output_type": "stream",
     "text": [
      "[225, 256, 289, 324, 361]\n"
     ]
    }
   ],
   "source": [
    "def printValues():\n",
    "    l=list()\n",
    "    for i in range(1,20):\n",
    "        l.append(i**2)\n",
    "    print(l[-5:])\n",
    "printValues()"
   ]
  },
  {
   "cell_type": "code",
   "execution_count": 7,
   "id": "24e4c9b1",
   "metadata": {},
   "outputs": [
    {
     "name": "stdout",
     "output_type": "stream",
     "text": [
      "[36, 49, 64, 81, 100, 121, 144, 169, 196, 225, 256, 289, 324, 361]\n"
     ]
    }
   ],
   "source": [
    "def printValues():\n",
    "    l=list()\n",
    "    for i in range(1,20):\n",
    "        l.append(i**2)\n",
    "    print(l[5:])\n",
    "printValues()"
   ]
  },
  {
   "cell_type": "code",
   "execution_count": 8,
   "id": "48518413",
   "metadata": {},
   "outputs": [
    {
     "name": "stdout",
     "output_type": "stream",
     "text": [
      "(1, 4, 9, 16, 25, 36, 49, 64, 81, 100, 121, 144, 169, 196, 225, 256, 289, 324, 361)\n"
     ]
    }
   ],
   "source": [
    "def printValues():\n",
    "    l=list()\n",
    "    for i in range(1,20):\n",
    "        l.append(i**2)\n",
    "    print(tuple(l))\n",
    "printValues()\n",
    "    "
   ]
  },
  {
   "cell_type": "code",
   "execution_count": null,
   "id": "ee2d8905",
   "metadata": {},
   "outputs": [],
   "source": []
  }
 ],
 "metadata": {
  "kernelspec": {
   "display_name": "Python 3 (ipykernel)",
   "language": "python",
   "name": "python3"
  },
  "language_info": {
   "codemirror_mode": {
    "name": "ipython",
    "version": 3
   },
   "file_extension": ".py",
   "mimetype": "text/x-python",
   "name": "python",
   "nbconvert_exporter": "python",
   "pygments_lexer": "ipython3",
   "version": "3.9.12"
  }
 },
 "nbformat": 4,
 "nbformat_minor": 5
}
