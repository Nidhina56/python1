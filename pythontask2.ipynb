{
 "cells": [
  {
   "cell_type": "code",
   "execution_count": 1,
   "id": "21c96db6",
   "metadata": {},
   "outputs": [
    {
     "name": "stdout",
     "output_type": "stream",
     "text": [
      "Enter the number of rows: 5\n",
      "* * * * *  \n",
      "* * * *  \n",
      "* * *  \n",
      "* *  \n",
      "*  \n",
      " \n"
     ]
    }
   ],
   "source": [
    "row = int(input(\"Enter the number of rows: \"))  \n",
    "for a in range(rows + 1, 0, -1):    \n",
    "    for b in range(0, a - 1):  \n",
    "        print(\"*\", end=' ')  \n",
    "    print(\" \")"
   ]
  },
  {
   "cell_type": "code",
   "execution_count": 2,
   "id": "4824f043",
   "metadata": {},
   "outputs": [
    {
     "name": "stdout",
     "output_type": "stream",
     "text": [
      "Enter year:2000\n",
      "leap year!\n"
     ]
    }
   ],
   "source": [
    "year=int(input(\"Enter year:\"))\n",
    "if(year%4==0 and year%100!=0 or year%400==0):\n",
    "    print(\"leap year!\")\n",
    "else:\n",
    "    print(\"not a leap year!\")"
   ]
  },
  {
   "cell_type": "code",
   "execution_count": 4,
   "id": "cfe20f14",
   "metadata": {},
   "outputs": [
    {
     "name": "stdout",
     "output_type": "stream",
     "text": [
      "Enter first side: 5\n",
      "Enter second side: 6\n",
      "Enter third side: 7\n",
      "14.696938456699069\n"
     ]
    }
   ],
   "source": [
    "a = float(input('Enter first side: '))  \n",
    "b = float(input('Enter second side: '))  \n",
    "c = float(input('Enter third side: '))    \n",
    "s = (a + b + c) / 2  \n",
    "area = (s*(s-a)*(s-b)*(s-c)) ** 0.5  \n",
    "print(area)  "
   ]
  },
  {
   "cell_type": "code",
   "execution_count": 5,
   "id": "546c1f88",
   "metadata": {},
   "outputs": [
    {
     "name": "stdout",
     "output_type": "stream",
     "text": [
      "Enter the Principle Amount: \n",
      "200000\n",
      "Enter Rate of Interest: \n",
      "5\n",
      "Enter Time Period: \n",
      "2\n",
      "\n",
      "Simple Interest Amount: \n",
      "20000.0\n"
     ]
    }
   ],
   "source": [
    "print(\"Enter the Principle Amount: \")\n",
    "p = int(input())\n",
    "print(\"Enter Rate of Interest: \")\n",
    "r = float(input())\n",
    "print(\"Enter Time Period: \")\n",
    "t = float(input())\n",
    "si = (p*r*t)/100\n",
    "print(\"\\nSimple Interest Amount: \")\n",
    "print(si)"
   ]
  },
  {
   "cell_type": "code",
   "execution_count": null,
   "id": "d5e0206a",
   "metadata": {},
   "outputs": [],
   "source": []
  }
 ],
 "metadata": {
  "kernelspec": {
   "display_name": "Python 3 (ipykernel)",
   "language": "python",
   "name": "python3"
  },
  "language_info": {
   "codemirror_mode": {
    "name": "ipython",
    "version": 3
   },
   "file_extension": ".py",
   "mimetype": "text/x-python",
   "name": "python",
   "nbconvert_exporter": "python",
   "pygments_lexer": "ipython3",
   "version": "3.9.12"
  }
 },
 "nbformat": 4,
 "nbformat_minor": 5
}
