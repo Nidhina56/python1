{
 "cells": [
  {
   "cell_type": "code",
   "execution_count": 1,
   "id": "be6629ac",
   "metadata": {},
   "outputs": [
    {
     "name": "stdout",
     "output_type": "stream",
     "text": [
      "enter a number3\n",
      "the number not multiple of 5\n"
     ]
    }
   ],
   "source": [
    "a=int(input(\"enter a number\"))\n",
    "b=a%5\n",
    "if b==0:\n",
    "    print(\"Given number is multiple of 5\")\n",
    "else:\n",
    "    print(\"the number not multiple of 5\")"
   ]
  },
  {
   "cell_type": "code",
   "execution_count": 2,
   "id": "6bfb7e67",
   "metadata": {},
   "outputs": [
    {
     "name": "stdout",
     "output_type": "stream",
     "text": [
      "enter the year2000\n",
      "year is leap\n"
     ]
    }
   ],
   "source": [
    "year=int(input(\"enter the year\"))\n",
    "if year%4==0:\n",
    "    print(\"year is leap\")\n",
    "elif year%4000==0:\n",
    "    print(\"year is not leapyear\")\n",
    "else:\n",
    "    print(\"year is not leap \")"
   ]
  },
  {
   "cell_type": "code",
   "execution_count": 3,
   "id": "e49d2233",
   "metadata": {},
   "outputs": [
    {
     "name": "stdout",
     "output_type": "stream",
     "text": [
      "Enter the Quantity Purchased :2333\n",
      "Enter the Amount Per Item :344\n",
      "Total Expenses is : 722296.8\n"
     ]
    }
   ],
   "source": [
    "quantity = int(input(\"Enter the Quantity Purchased :\"))\n",
    "amount = float(input(\"Enter the Amount Per Item :\"))\n",
    "if(quantity>10):\n",
    "    total = quantity * amount; \n",
    "    total = total- (total * 0.1)\n",
    "else:\n",
    "    total = quantity * amount\n",
    " \n",
    "print(\"Total Expenses is :\",total)"
   ]
  },
  {
   "cell_type": "code",
   "execution_count": 5,
   "id": "91e72615",
   "metadata": {},
   "outputs": [
    {
     "name": "stdout",
     "output_type": "stream",
     "text": [
      "Enter the amount2000\n",
      "200.0\n",
      "discount_bill 1800.0\n"
     ]
    }
   ],
   "source": [
    "Amount=int(input(\"Enter the amount\"))\n",
    "if Amount > 1000:\n",
    "    discount = Amount * 0.1\n",
    "    discount_bill = Amount - discount\n",
    "    print(\"discount\",discount)\n",
    "    print(\"discount_bill\",discount_bill)"
   ]
  },
  {
   "cell_type": "code",
   "execution_count": 16,
   "id": "22216739",
   "metadata": {},
   "outputs": [
    {
     "name": "stdout",
     "output_type": "stream",
     "text": [
      "enter your age45\n",
      "person can vote and contest\n"
     ]
    }
   ],
   "source": [
    "age = int(input(\"enter your age\"))\n",
    "if age >=25:\n",
    "    print(\"person can vote and contest\")\n",
    "elif age >=18:\n",
    "    print(\"person can vote\")\n",
    "else:\n",
    "    print(\"not able to vote\")"
   ]
  },
  {
   "cell_type": "code",
   "execution_count": 24,
   "id": "1cd39fc6",
   "metadata": {},
   "outputs": [
    {
     "name": "stdout",
     "output_type": "stream",
     "text": [
      "11\n",
      "hello world\n"
     ]
    }
   ],
   "source": [
    "a = \"Hello world\"\n",
    "print(len(a))\n",
    "print(a.lower())"
   ]
  },
  {
   "cell_type": "code",
   "execution_count": 23,
   "id": "ecab482e",
   "metadata": {},
   "outputs": [
    {
     "name": "stdout",
     "output_type": "stream",
     "text": [
      "HELLO WORLD\n"
     ]
    }
   ],
   "source": [
    "a = \"hello world\"\n",
    "print(a.upper())"
   ]
  },
  {
   "cell_type": "code",
   "execution_count": 28,
   "id": "2dc1c4a9",
   "metadata": {},
   "outputs": [
    {
     "name": "stdout",
     "output_type": "stream",
     "text": [
      "hi world\n"
     ]
    }
   ],
   "source": [
    "a = \"hello world\"\n",
    "print(a.replace(\"hello\",\"hi\"))"
   ]
  },
  {
   "cell_type": "code",
   "execution_count": 29,
   "id": "e31621e4",
   "metadata": {},
   "outputs": [
    {
     "name": "stdout",
     "output_type": "stream",
     "text": [
      "he\n"
     ]
    }
   ],
   "source": [
    "print(a[:2])"
   ]
  },
  {
   "cell_type": "code",
   "execution_count": 31,
   "id": "aa41f5ac",
   "metadata": {},
   "outputs": [
    {
     "name": "stdout",
     "output_type": "stream",
     "text": [
      "Hello world\n"
     ]
    }
   ],
   "source": [
    "print(a.capitalize())"
   ]
  },
  {
   "cell_type": "code",
   "execution_count": 32,
   "id": "5ec69bbe",
   "metadata": {},
   "outputs": [
    {
     "name": "stdout",
     "output_type": "stream",
     "text": [
      "Hello World\n"
     ]
    }
   ],
   "source": [
    "print(a.title())"
   ]
  },
  {
   "cell_type": "code",
   "execution_count": 33,
   "id": "7ddc699a",
   "metadata": {},
   "outputs": [
    {
     "name": "stdout",
     "output_type": "stream",
     "text": [
      "0\n"
     ]
    }
   ],
   "source": [
    "print(a.find(\"hello\"))"
   ]
  },
  {
   "cell_type": "code",
   "execution_count": 34,
   "id": "f6f6f4ad",
   "metadata": {},
   "outputs": [
    {
     "name": "stdout",
     "output_type": "stream",
     "text": [
      "6\n"
     ]
    }
   ],
   "source": [
    "print(a.find(\"world\"))"
   ]
  },
  {
   "cell_type": "code",
   "execution_count": 40,
   "id": "cc8e0b45",
   "metadata": {},
   "outputs": [
    {
     "name": "stdout",
     "output_type": "stream",
     "text": [
      "['hello world']\n"
     ]
    }
   ],
   "source": [
    "print(a.split(\",\"))"
   ]
  },
  {
   "cell_type": "code",
   "execution_count": 42,
   "id": "657b4a14",
   "metadata": {},
   "outputs": [
    {
     "name": "stdout",
     "output_type": "stream",
     "text": [
      "1\n"
     ]
    }
   ],
   "source": [
    "print(a.count('h'))"
   ]
  },
  {
   "cell_type": "code",
   "execution_count": 47,
   "id": "547e96e3",
   "metadata": {},
   "outputs": [
    {
     "name": "stdout",
     "output_type": "stream",
     "text": [
      "-1\n"
     ]
    }
   ],
   "source": [
    "print(a.find('bye'))"
   ]
  },
  {
   "cell_type": "code",
   "execution_count": 51,
   "id": "d33a1326",
   "metadata": {},
   "outputs": [
    {
     "name": "stdout",
     "output_type": "stream",
     "text": [
      "0\n"
     ]
    }
   ],
   "source": [
    "print(a.index(\"hello\"))"
   ]
  },
  {
   "cell_type": "code",
   "execution_count": null,
   "id": "093de408",
   "metadata": {},
   "outputs": [],
   "source": []
  }
 ],
 "metadata": {
  "kernelspec": {
   "display_name": "Python 3 (ipykernel)",
   "language": "python",
   "name": "python3"
  },
  "language_info": {
   "codemirror_mode": {
    "name": "ipython",
    "version": 3
   },
   "file_extension": ".py",
   "mimetype": "text/x-python",
   "name": "python",
   "nbconvert_exporter": "python",
   "pygments_lexer": "ipython3",
   "version": "3.9.12"
  }
 },
 "nbformat": 4,
 "nbformat_minor": 5
}
