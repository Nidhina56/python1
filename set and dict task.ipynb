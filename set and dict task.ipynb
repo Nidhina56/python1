{
 "cells": [
  {
   "cell_type": "code",
   "execution_count": 1,
   "id": "a2c28bb6",
   "metadata": {},
   "outputs": [
    {
     "name": "stdout",
     "output_type": "stream",
     "text": [
      "{'cherry', 'pineapple', 'apple'}\n"
     ]
    }
   ],
   "source": [
    "fruits = set((\"apple\", \"pineapple\", \"cherry\"))\n",
    "print(fruits)"
   ]
  },
  {
   "cell_type": "code",
   "execution_count": 2,
   "id": "9a54bbed",
   "metadata": {},
   "outputs": [
    {
     "name": "stdout",
     "output_type": "stream",
     "text": [
      "{'banana', 'cherry', 'pineapple', 'apple'}\n"
     ]
    }
   ],
   "source": [
    "fruits = {'cherry', 'pineapple', 'apple'}\n",
    "fruits.add(\"banana\")\n",
    "print(fruits)"
   ]
  },
  {
   "cell_type": "code",
   "execution_count": 3,
   "id": "be811bc4",
   "metadata": {},
   "outputs": [
    {
     "name": "stdout",
     "output_type": "stream",
     "text": [
      "{'banana', 'pineapple', 'apple'}\n"
     ]
    }
   ],
   "source": [
    "\n",
    "fruits.remove(\"cherry\")\n",
    "print(fruits)"
   ]
  },
  {
   "cell_type": "code",
   "execution_count": 4,
   "id": "ec3aa382",
   "metadata": {},
   "outputs": [
    {
     "name": "stdout",
     "output_type": "stream",
     "text": [
      "{1, 2, 3, 4, 5, 6, 7, 8}\n"
     ]
    }
   ],
   "source": [
    "num1={1,2,3,4}\n",
    "num2={5,6,7,8}\n",
    "num3= num1.union(num2)\n",
    "print(num3)"
   ]
  },
  {
   "cell_type": "code",
   "execution_count": 6,
   "id": "9cb7caf8",
   "metadata": {},
   "outputs": [
    {
     "name": "stdout",
     "output_type": "stream",
     "text": [
      "{8, 2}\n"
     ]
    }
   ],
   "source": [
    "num1={1,2,3,4,8,8}\n",
    "num2={5,6,7,8,2,5}\n",
    "num3= num1.intersection(num2)\n",
    "print(num3)"
   ]
  },
  {
   "cell_type": "code",
   "execution_count": 7,
   "id": "93312e09",
   "metadata": {},
   "outputs": [
    {
     "name": "stdout",
     "output_type": "stream",
     "text": [
      "{1, 3, 4}\n"
     ]
    }
   ],
   "source": [
    "num1={1,2,3,4,8,8}\n",
    "num2={5,6,7,8,2,5}\n",
    "num3= num1.difference(num2)\n",
    "print(num3)"
   ]
  },
  {
   "cell_type": "code",
   "execution_count": 8,
   "id": "efd4edc0",
   "metadata": {},
   "outputs": [
    {
     "name": "stdout",
     "output_type": "stream",
     "text": [
      "False\n"
     ]
    }
   ],
   "source": [
    "num1={1,2,3,4,8,8}\n",
    "num2={5,6,7,8,2,5}\n",
    "num3= num1.issubset(num2)\n",
    "print(num3)"
   ]
  },
  {
   "cell_type": "code",
   "execution_count": 9,
   "id": "8fa1d35e",
   "metadata": {},
   "outputs": [
    {
     "name": "stdout",
     "output_type": "stream",
     "text": [
      "{'banana', 'pineapple', 'apple'}\n"
     ]
    }
   ],
   "source": [
    "veg=fruits.copy()\n",
    "print(veg)"
   ]
  },
  {
   "cell_type": "code",
   "execution_count": 14,
   "id": "5ec55559",
   "metadata": {},
   "outputs": [
    {
     "name": "stdout",
     "output_type": "stream",
     "text": [
      "3\n"
     ]
    }
   ],
   "source": [
    "fruit = {'banana','pineapple','apple'}\n",
    "print(len(fruit))"
   ]
  },
  {
   "cell_type": "code",
   "execution_count": 26,
   "id": "fb01b3e1",
   "metadata": {},
   "outputs": [
    {
     "name": "stdout",
     "output_type": "stream",
     "text": [
      "{'company': 'Ford', 'model': 'second', 'year': 2010, 'color': 'black'}\n"
     ]
    }
   ],
   "source": [
    "car = {\n",
    "  \"company\": \"Ford\",\n",
    "  \"model\": \"second\",\n",
    "  \"year\": 2010\n",
    "}\n",
    "car[\"color\"] = \"black\"\n",
    "print(car)"
   ]
  },
  {
   "cell_type": "code",
   "execution_count": 19,
   "id": "edcbfa8d",
   "metadata": {},
   "outputs": [
    {
     "name": "stdout",
     "output_type": "stream",
     "text": [
      "{'company': 'Ford', 'model': 'Mustang', 'year': 2010, 'color': 'black'}\n"
     ]
    }
   ],
   "source": [
    "car = {\n",
    "  \"company\": \"Ford\",\n",
    "  \"model\": \"Mustang\",\n",
    "  \"year\": 2010\n",
    "}\n",
    "car.update({\"color\": \"black\"})\n",
    "print(car)"
   ]
  },
  {
   "cell_type": "code",
   "execution_count": 21,
   "id": "6012935c",
   "metadata": {},
   "outputs": [
    {
     "name": "stdout",
     "output_type": "stream",
     "text": [
      "banana\n",
      "pineapple\n",
      "apple\n"
     ]
    }
   ],
   "source": [
    "for x in fruits:\n",
    "  print(x)"
   ]
  },
  {
   "cell_type": "code",
   "execution_count": 40,
   "id": "a7822658",
   "metadata": {},
   "outputs": [
    {
     "name": "stdout",
     "output_type": "stream",
     "text": [
      "company Ford\n",
      "model Mustang\n",
      "year 2010\n"
     ]
    }
   ],
   "source": [
    "for x,y in car.items():\n",
    "    print(x,y)"
   ]
  },
  {
   "cell_type": "code",
   "execution_count": 41,
   "id": "6f0a1e42",
   "metadata": {},
   "outputs": [
    {
     "name": "stdout",
     "output_type": "stream",
     "text": [
      "{'company': 'Ford', 'model': 'second'}\n"
     ]
    }
   ],
   "source": [
    "car = {\n",
    "  \"company\": \"Ford\",\n",
    "  \"model\": \"second\",\n",
    "  \"year\": 2010\n",
    "}\n",
    "del car[\"year\"]\n",
    "print(car)"
   ]
  },
  {
   "cell_type": "code",
   "execution_count": null,
   "id": "024a6353",
   "metadata": {},
   "outputs": [],
   "source": []
  }
 ],
 "metadata": {
  "kernelspec": {
   "display_name": "Python 3 (ipykernel)",
   "language": "python",
   "name": "python3"
  },
  "language_info": {
   "codemirror_mode": {
    "name": "ipython",
    "version": 3
   },
   "file_extension": ".py",
   "mimetype": "text/x-python",
   "name": "python",
   "nbconvert_exporter": "python",
   "pygments_lexer": "ipython3",
   "version": "3.9.12"
  }
 },
 "nbformat": 4,
 "nbformat_minor": 5
}
