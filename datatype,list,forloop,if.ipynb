{
 "cells": [
  {
   "cell_type": "code",
   "execution_count": 2,
   "id": "b1166ab1",
   "metadata": {},
   "outputs": [
    {
     "name": "stdout",
     "output_type": "stream",
     "text": [
      "13\n"
     ]
    }
   ],
   "source": [
    "text = \"I love myself\"\n",
    "x = len(text)\n",
    "print(x)"
   ]
  },
  {
   "cell_type": "code",
   "execution_count": 3,
   "id": "6dfd5709",
   "metadata": {},
   "outputs": [
    {
     "name": "stdout",
     "output_type": "stream",
     "text": [
      "1\n"
     ]
    }
   ],
   "source": [
    "x = text.count(\"love\")\n",
    "print(x)"
   ]
  },
  {
   "cell_type": "code",
   "execution_count": 12,
   "id": "8a15faaf",
   "metadata": {},
   "outputs": [
    {
     "name": "stdout",
     "output_type": "stream",
     "text": [
      "11\n"
     ]
    }
   ],
   "source": [
    "\n",
    "count = 0\n",
    "for i in range(0,len(text)):\n",
    "    if(text[i]!=' '):\n",
    "        count = count + 1\n",
    "print(count)\n"
   ]
  },
  {
   "cell_type": "code",
   "execution_count": 16,
   "id": "484be247",
   "metadata": {},
   "outputs": [
    {
     "name": "stdout",
     "output_type": "stream",
     "text": [
      " enter the words : how are you\n",
      "words in uppercase :  HOW ARE YOU\n",
      "words in lowercase :  how are you\n"
     ]
    }
   ],
   "source": [
    "text = input(\" enter the words : \")\n",
    "x = text.upper()\n",
    "y = text.lower()\n",
    "print(\"words in uppercase : \",x)\n",
    "print(\"words in lowercase : \",y)"
   ]
  },
  {
   "cell_type": "code",
   "execution_count": 19,
   "id": "76e19432",
   "metadata": {},
   "outputs": [
    {
     "name": "stdout",
     "output_type": "stream",
     "text": [
      "['apple', 'orange', 'mango', 'pappaya']\n"
     ]
    }
   ],
   "source": [
    "fruits = [\"apple\",\"orange\",\"mango\"]\n",
    "fruits.append(\"pappaya\")\n",
    "print(fruits)"
   ]
  },
  {
   "cell_type": "code",
   "execution_count": 22,
   "id": "5f2c93f4",
   "metadata": {},
   "outputs": [
    {
     "name": "stdout",
     "output_type": "stream",
     "text": [
      "['apple', 'banana', 'banana', 'orange', 'mango', 'pappaya']\n"
     ]
    }
   ],
   "source": [
    "fruits.insert(1,'banana')\n",
    "print(fruits)"
   ]
  },
  {
   "cell_type": "code",
   "execution_count": 24,
   "id": "6bf9fe2d",
   "metadata": {},
   "outputs": [
    {
     "name": "stdout",
     "output_type": "stream",
     "text": [
      "['a', 'b', 'c', 1, 2, 3]\n"
     ]
    }
   ],
   "source": [
    "alpha = ['a','b','c']\n",
    "num = [1,2,3]\n",
    "alpha.extend(num)\n",
    "print(alpha)\n"
   ]
  },
  {
   "cell_type": "code",
   "execution_count": 25,
   "id": "b1531068",
   "metadata": {},
   "outputs": [
    {
     "name": "stdout",
     "output_type": "stream",
     "text": [
      "[]\n"
     ]
    }
   ],
   "source": [
    "fruits.clear()\n",
    "print(fruits)"
   ]
  },
  {
   "cell_type": "code",
   "execution_count": 27,
   "id": "d70f6487",
   "metadata": {},
   "outputs": [
    {
     "name": "stdout",
     "output_type": "stream",
     "text": [
      "['apple', 'orange', 'mango', 'orange']\n"
     ]
    }
   ],
   "source": [
    "fruits = [\"apple\",\"orange\",\"mango\",\"orange\"]\n",
    "veg = fruits.copy()\n",
    "print(veg)"
   ]
  },
  {
   "cell_type": "code",
   "execution_count": 29,
   "id": "1ecfeba8",
   "metadata": {},
   "outputs": [
    {
     "data": {
      "text/plain": [
       "2"
      ]
     },
     "execution_count": 29,
     "metadata": {},
     "output_type": "execute_result"
    }
   ],
   "source": [
    "veg.count(\"orange\")"
   ]
  },
  {
   "cell_type": "code",
   "execution_count": 31,
   "id": "ad930111",
   "metadata": {},
   "outputs": [
    {
     "data": {
      "text/plain": [
       "0"
      ]
     },
     "execution_count": 31,
     "metadata": {},
     "output_type": "execute_result"
    }
   ],
   "source": [
    "veg.index(\"apple\")"
   ]
  },
  {
   "cell_type": "code",
   "execution_count": 33,
   "id": "2b6c1dbf",
   "metadata": {},
   "outputs": [
    {
     "data": {
      "text/plain": [
       "'orange'"
      ]
     },
     "execution_count": 33,
     "metadata": {},
     "output_type": "execute_result"
    }
   ],
   "source": [
    "veg.pop(1)"
   ]
  },
  {
   "cell_type": "code",
   "execution_count": 37,
   "id": "3948e06f",
   "metadata": {},
   "outputs": [],
   "source": [
    "veg.remove(\"mango\")"
   ]
  },
  {
   "cell_type": "code",
   "execution_count": 38,
   "id": "fb3aa27b",
   "metadata": {},
   "outputs": [],
   "source": [
    "veg.sort()"
   ]
  },
  {
   "cell_type": "code",
   "execution_count": 39,
   "id": "c0fc9f0a",
   "metadata": {},
   "outputs": [
    {
     "name": "stdout",
     "output_type": "stream",
     "text": [
      "['apple']\n"
     ]
    }
   ],
   "source": [
    "print(veg)"
   ]
  },
  {
   "cell_type": "code",
   "execution_count": 40,
   "id": "0253c634",
   "metadata": {},
   "outputs": [
    {
     "name": "stdout",
     "output_type": "stream",
     "text": [
      "[1, 2, 3, 4, 5, 6, 8, 9]\n"
     ]
    }
   ],
   "source": [
    "number=[1,2,3,4,5,6,9,8]\n",
    "number.sort()\n",
    "print(number)"
   ]
  },
  {
   "cell_type": "code",
   "execution_count": 46,
   "id": "ccda4cd8",
   "metadata": {},
   "outputs": [
    {
     "name": "stdout",
     "output_type": "stream",
     "text": [
      "1\n"
     ]
    }
   ],
   "source": [
    "alph = ('a',2,'b')\n",
    "x=alph.count('a')\n",
    "print(x)"
   ]
  },
  {
   "cell_type": "code",
   "execution_count": 50,
   "id": "c8d16dc8",
   "metadata": {},
   "outputs": [],
   "source": [
    "del veg[0]"
   ]
  },
  {
   "cell_type": "code",
   "execution_count": null,
   "id": "ad7b42b1",
   "metadata": {},
   "outputs": [],
   "source": []
  }
 ],
 "metadata": {
  "kernelspec": {
   "display_name": "Python 3 (ipykernel)",
   "language": "python",
   "name": "python3"
  },
  "language_info": {
   "codemirror_mode": {
    "name": "ipython",
    "version": 3
   },
   "file_extension": ".py",
   "mimetype": "text/x-python",
   "name": "python",
   "nbconvert_exporter": "python",
   "pygments_lexer": "ipython3",
   "version": "3.9.12"
  }
 },
 "nbformat": 4,
 "nbformat_minor": 5
}
