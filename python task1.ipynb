{
 "cells": [
  {
   "cell_type": "code",
   "execution_count": 1,
   "id": "67f8f948",
   "metadata": {},
   "outputs": [
    {
     "name": "stdout",
     "output_type": "stream",
     "text": [
      "7\n"
     ]
    }
   ],
   "source": [
    "#count the string\n",
    "text = 'anucree'\n",
    "count = 0\n",
    "for i in range(0,len(text)):\n",
    "    if(text[i]!=' '):\n",
    "        count = count + 1\n",
    "print(count)"
   ]
  },
  {
   "cell_type": "code",
   "execution_count": 2,
   "id": "99eb02a5",
   "metadata": {},
   "outputs": [
    {
     "name": "stdout",
     "output_type": "stream",
     "text": [
      "Enter the String:anucreee\n",
      "Your Enter String is: 8\n"
     ]
    }
   ],
   "source": [
    "# length of string\n",
    "str=input(\"Enter the String:\")\n",
    "len=0\n",
    "while str[len:]:\n",
    "    len+=1\n",
    "print(\"Your Enter String is:\", len)"
   ]
  },
  {
   "cell_type": "code",
   "execution_count": 5,
   "id": "025549b5",
   "metadata": {},
   "outputs": [
    {
     "name": "stdout",
     "output_type": "stream",
     "text": [
      "Please Enter your Own String : anucree 199\n",
      "Original String :   anucree 199\n",
      "Modified String :   anucree_199\n"
     ]
    }
   ],
   "source": [
    "#replace blank space\n",
    "str1 = input(\"Please Enter your Own String : \")\n",
    "str2 = str1.replace(' ', '_')\n",
    "print(\"Original String :  \", str1)\n",
    "print(\"Modified String :  \", str2)"
   ]
  },
  {
   "cell_type": "code",
   "execution_count": 10,
   "id": "c1a9132c",
   "metadata": {},
   "outputs": [
    {
     "name": "stdout",
     "output_type": "stream",
     "text": [
      "15\n"
     ]
    }
   ],
   "source": [
    "#count the string\n",
    "string = \"Hi there how are you\"\n",
    "my_counter=0\n",
    "for i in my_string:\n",
    "   if(i.islower()):\n",
    "      my_counter=my_counter+1\n",
    "print(my_counter)\n"
   ]
  },
  {
   "cell_type": "code",
   "execution_count": 15,
   "id": "d44833e6",
   "metadata": {},
   "outputs": [
    {
     "name": "stdout",
     "output_type": "stream",
     "text": [
      "Enter first string:anucree\n",
      "Enter second string:kunjakuzhyil\n",
      "The common letters are:\n",
      "n\n",
      "u\n",
      "a\n"
     ]
    }
   ],
   "source": [
    "#common letter\n",
    "s1=input(\"Enter first string:\")\n",
    "s2=input(\"Enter second string:\")\n",
    "a=list(set(s1)&set(s2))\n",
    "print(\"The common letters are:\")\n",
    "for i in a:\n",
    "    print(i)"
   ]
  },
  {
   "cell_type": "code",
   "execution_count": 18,
   "id": "b18a08d8",
   "metadata": {},
   "outputs": [
    {
     "name": "stdout",
     "output_type": "stream",
     "text": [
      "Enter a letter:anucree\n",
      "The letter is not a palindrome\n"
     ]
    }
   ],
   "source": [
    "#palindrome\n",
    "string=input((\"Enter a letter:\"))  \n",
    "if(string==string[::-1]):  \n",
    "      print(\"The letter is a palindrome\")  \n",
    "else:  \n",
    "      print(\"The letter is not a palindrome\")  "
   ]
  },
  {
   "cell_type": "code",
   "execution_count": 19,
   "id": "f0b88a3c",
   "metadata": {},
   "outputs": [
    {
     "name": "stdout",
     "output_type": "stream",
     "text": [
      "Enter first number: 23\n",
      "Enter second number: 45\n",
      "The product is: 1035\n"
     ]
    }
   ],
   "source": [
    "#product\n",
    "n1 = int(input(\"Enter first number: \"))\n",
    "n2 = int(input(\"Enter second number: \"))\n",
    "prod = n1 * n2\n",
    "print(\"The product is:\",prod)"
   ]
  },
  {
   "cell_type": "code",
   "execution_count": 21,
   "id": "1747a23b",
   "metadata": {},
   "outputs": [
    {
     "name": "stdout",
     "output_type": "stream",
     "text": [
      "enter you want the table: 5\n",
      "The Multiplication Table of:  5\n",
      "5 x a = 5\n",
      "5 x a = 10\n",
      "5 x a = 15\n",
      "5 x a = 20\n",
      "5 x a = 25\n",
      "5 x a = 30\n",
      "5 x a = 35\n",
      "5 x a = 40\n",
      "5 x a = 45\n",
      "5 x a = 50\n"
     ]
    }
   ],
   "source": [
    "#table\n",
    "number = int(input (\"enter you want the table: \"))      \n",
    "count = 1       \n",
    "print (\"The Multiplication Table of: \", number)    \n",
    "while count <= 10:    \n",
    "    number = number * 1    \n",
    "    print (number, 'x', i, '=', number * count)    \n",
    "    count += 1    "
   ]
  },
  {
   "cell_type": "code",
   "execution_count": 22,
   "id": "8056da7f",
   "metadata": {},
   "outputs": [
    {
     "name": "stdout",
     "output_type": "stream",
     "text": [
      "Enter a number4\n",
      "The number is \n",
      "4\n",
      "The smallest divisor is : \n",
      "2\n"
     ]
    }
   ],
   "source": [
    "#smallest divisor\n",
    "firstnumber = int(input(\"Enter a number\"))\n",
    "my_list = []\n",
    "\n",
    "print(\"The number is \")\n",
    "print(firstnumber)\n",
    "for i in range(2,firstnumber+1):\n",
    "   if(firstnumber%i==0):\n",
    "      my_list.append(i)\n",
    "my_list.sort()\n",
    "print(\"The smallest divisor is : \")\n",
    "print(my_list[0])"
   ]
  },
  {
   "cell_type": "code",
   "execution_count": 23,
   "id": "e1b70919",
   "metadata": {},
   "outputs": [
    {
     "name": "stdout",
     "output_type": "stream",
     "text": [
      "Enter the height in centimeters:150\n",
      "The length in inches 59.1\n",
      "The length in feet 4.92\n"
     ]
    }
   ],
   "source": [
    "#convert \n",
    "cm=int(input(\"Enter the centimeters:\"))\n",
    "inches=0.394*cm\n",
    "feet=0.0328*cm\n",
    "print(\"The length in inches\",round(inches,2))\n",
    "print(\"The length in feet\",round(feet,2))"
   ]
  },
  {
   "cell_type": "code",
   "execution_count": 1,
   "id": "14d94c54",
   "metadata": {},
   "outputs": [
    {
     "name": "stdout",
     "output_type": "stream",
     "text": [
      "enter the number:3\n",
      "enter the number3\n",
      "6\n"
     ]
    }
   ],
   "source": [
    "#sum\n",
    "num1 = int(input(\"enter the number:\"))\n",
    "num2 = int(input(\"enter the number\"))\n",
    "sum = num1+num2\n",
    "print(sum)"
   ]
  },
  {
   "cell_type": "code",
   "execution_count": 2,
   "id": "bcf3ff65",
   "metadata": {},
   "outputs": [
    {
     "name": "stdout",
     "output_type": "stream",
     "text": [
      "Enter an integer:30\n",
      "Smallest divisor is: 2\n"
     ]
    }
   ],
   "source": [
    "#integer smallest divisor\n",
    "n=int(input(\"Enter an integer:\"))\n",
    "a=[]\n",
    "for i in range(2,n+1):\n",
    "    if(n%i==0):\n",
    "        a.append(i)\n",
    "a.sort()\n",
    "print(\"Smallest divisor is:\",a[0])"
   ]
  },
  {
   "cell_type": "code",
   "execution_count": 4,
   "id": "86cb68c9",
   "metadata": {},
   "outputs": [
    {
     "name": "stdout",
     "output_type": "stream",
     "text": [
      "Numbers not divisible by 2 or 3:\n",
      "1\n",
      "5\n",
      "7\n"
     ]
    }
   ],
   "source": [
    "#divisible not 2 or 3\n",
    "divisible = []\n",
    "for i in range(1, 11):\n",
    "    if i % 2 != 0 and i % 3 != 0:\n",
    "        divisible.append(i)\n",
    "print(\"Numbers not divisible by 2 or 3:\")\n",
    "for num in divisible:\n",
    "    print(num)\n"
   ]
  },
  {
   "cell_type": "code",
   "execution_count": 7,
   "id": "2ce0d4d2",
   "metadata": {},
   "outputs": [
    {
     "name": "stdout",
     "output_type": "stream",
     "text": [
      "Enter lower range limit:1\n",
      "Enter upper range limit:50\n",
      "Enter the number to be divided by:5\n",
      "5\n",
      "10\n",
      "15\n",
      "20\n",
      "25\n",
      "30\n",
      "35\n",
      "40\n",
      "45\n",
      "50\n"
     ]
    }
   ],
   "source": [
    "lower=int(input(\"Enter lower range limit:\"))\n",
    "upper=int(input(\"Enter upper range limit:\"))\n",
    "n=int(input(\"Enter the number to be divided by:\"))\n",
    "for i in range(lower,upper+1):\n",
    "    if(i%n==0):\n",
    "        print(i)"
   ]
  },
  {
   "cell_type": "code",
   "execution_count": null,
   "id": "672818ef",
   "metadata": {},
   "outputs": [],
   "source": [
    "#leap year\n",
    "year=int(input(\"Enter year:\"))\n",
    "if(year%4==0 and year%100!=0 or year%400==0):\n",
    "    print(\"leap year!\")\n",
    "else:\n",
    "    print(\"not a leap year!\")\n",
    "    "
   ]
  },
  {
   "cell_type": "code",
   "execution_count": null,
   "id": "143d243e",
   "metadata": {},
   "outputs": [],
   "source": [
    "rows = int(input(\"Enter the number of rows: \"))  \n",
    " \n",
    "for a in range(rows + 1, 0, -1):    \n",
    "    for b in range(0, a - 1):  \n",
    "        print(\"*\", end=' ')  \n",
    "    print(\" \")"
   ]
  },
  {
   "cell_type": "code",
   "execution_count": null,
   "id": "80ee1f7e",
   "metadata": {},
   "outputs": [],
   "source": []
  }
 ],
 "metadata": {
  "kernelspec": {
   "display_name": "Python 3 (ipykernel)",
   "language": "python",
   "name": "python3"
  },
  "language_info": {
   "codemirror_mode": {
    "name": "ipython",
    "version": 3
   },
   "file_extension": ".py",
   "mimetype": "text/x-python",
   "name": "python",
   "nbconvert_exporter": "python",
   "pygments_lexer": "ipython3",
   "version": "3.9.12"
  }
 },
 "nbformat": 4,
 "nbformat_minor": 5
}
