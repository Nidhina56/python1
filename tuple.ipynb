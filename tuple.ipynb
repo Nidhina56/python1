{
 "cells": [
  {
   "cell_type": "code",
   "execution_count": 5,
   "id": "51b60ffe",
   "metadata": {},
   "outputs": [
    {
     "name": "stdout",
     "output_type": "stream",
     "text": [
      "2\n"
     ]
    }
   ],
   "source": [
    "a = (1,3,4,5,4)\n",
    "x = a.count(4)\n",
    "print(x)"
   ]
  },
  {
   "cell_type": "code",
   "execution_count": 7,
   "id": "c7401739",
   "metadata": {},
   "outputs": [],
   "source": [
    "x = (\"apple\",\"orange\",\"mango\")\n",
    "del x\n"
   ]
  },
  {
   "cell_type": "code",
   "execution_count": 16,
   "id": "92d91e2d",
   "metadata": {},
   "outputs": [
    {
     "name": "stdout",
     "output_type": "stream",
     "text": [
      "6\n"
     ]
    }
   ],
   "source": [
    "x=(1,2,3,4,5,4,5,6,6,6)\n",
    "y=max(x)\n",
    "print(y)"
   ]
  },
  {
   "cell_type": "code",
   "execution_count": 17,
   "id": "a943d0b7",
   "metadata": {},
   "outputs": [
    {
     "name": "stdout",
     "output_type": "stream",
     "text": [
      "1\n"
     ]
    }
   ],
   "source": [
    "y=min(x)\n",
    "print(y)"
   ]
  },
  {
   "cell_type": "code",
   "execution_count": 12,
   "id": "ff821a67",
   "metadata": {},
   "outputs": [
    {
     "name": "stdout",
     "output_type": "stream",
     "text": [
      "min value element :  200\n",
      "min value element :  bio\n"
     ]
    }
   ],
   "source": [
    "tuple2 = ('maths', 'che', 'phy', 'bio')\n",
    "tuple1  = (456, 700, 200)\n",
    "print (\"min value element : \", min(tuple1))\n",
    "print (\"min value element : \", min(tuple2))"
   ]
  },
  {
   "cell_type": "code",
   "execution_count": 18,
   "id": "a4d3d860",
   "metadata": {},
   "outputs": [
    {
     "name": "stdout",
     "output_type": "stream",
     "text": [
      "2\n"
     ]
    }
   ],
   "source": [
    "num=(1,2,3,4)\n",
    "print(num[1])"
   ]
  },
  {
   "cell_type": "code",
   "execution_count": 19,
   "id": "5874b134",
   "metadata": {},
   "outputs": [
    {
     "name": "stdout",
     "output_type": "stream",
     "text": [
      "3\n"
     ]
    }
   ],
   "source": [
    "num=('apple','mango','orange')\n",
    "print(len(num))"
   ]
  },
  {
   "cell_type": "code",
   "execution_count": 22,
   "id": "b4578661",
   "metadata": {},
   "outputs": [
    {
     "name": "stdout",
     "output_type": "stream",
     "text": [
      "<built-in function max>\n"
     ]
    }
   ],
   "source": [
    "fruits=('apple','alphonamango','orange')\n",
    "veg=max(fruits)\n",
    "print(veg)"
   ]
  },
  {
   "cell_type": "code",
   "execution_count": null,
   "id": "76dbccb1",
   "metadata": {},
   "outputs": [],
   "source": []
  }
 ],
 "metadata": {
  "kernelspec": {
   "display_name": "Python 3 (ipykernel)",
   "language": "python",
   "name": "python3"
  },
  "language_info": {
   "codemirror_mode": {
    "name": "ipython",
    "version": 3
   },
   "file_extension": ".py",
   "mimetype": "text/x-python",
   "name": "python",
   "nbconvert_exporter": "python",
   "pygments_lexer": "ipython3",
   "version": "3.9.12"
  }
 },
 "nbformat": 4,
 "nbformat_minor": 5
}
